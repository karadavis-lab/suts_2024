{
 "cells": [
  {
   "cell_type": "markdown",
   "metadata": {},
   "source": [
    "# Process FCS file"
   ]
  },
  {
   "cell_type": "markdown",
   "metadata": {},
   "source": [
    "Here we will process the initial `data.fcs` file by:\n",
    "- Moving some values in `vars` to `obs`\n",
    "- Creating mappings from the `OmiqFileIndex` to:\n",
    "  - Cell Type w/ Patient Info\n",
    "- Generating $2D$ and $3D$ UMAP embeddings\n",
    "- Writing the data to a `.zarr` file\n",
    "- Writing Cell mappings to CSV files for Houdini Processing to generate `.obj` geometry files for Spline3D."
   ]
  },
  {
   "cell_type": "markdown",
   "metadata": {},
   "source": [
    "Directory Structure:\n",
    "```sh\n",
    "vitessce_suts/\n",
    "├── data/\n",
    "│   └── data.fcs\n",
    "└── scripts/\n",
    "    ├── process_fcs.ipynb *\n",
    "    └── vitessce.ipynb\n",
    "```\n"
   ]
  },
  {
   "cell_type": "markdown",
   "metadata": {},
   "source": [
    "## Import packages"
   ]
  },
  {
   "cell_type": "code",
   "execution_count": null,
   "metadata": {},
   "outputs": [],
   "source": [
    "from pathlib import Path\n",
    "\n",
    "import pandas as pd\n",
    "import pytometry as pm\n",
    "import scanpy as sc"
   ]
  },
  {
   "cell_type": "markdown",
   "metadata": {},
   "source": [
    "## Read fcs, set cell types, categories, etc..."
   ]
  },
  {
   "cell_type": "code",
   "execution_count": null,
   "metadata": {},
   "outputs": [],
   "source": [
    "fcs_path = Path(\"../data/data.fcs\")"
   ]
  },
  {
   "cell_type": "code",
   "execution_count": null,
   "metadata": {},
   "outputs": [],
   "source": [
    "adata = pm.io.read_fcs(path=fcs_path)"
   ]
  },
  {
   "cell_type": "code",
   "execution_count": null,
   "metadata": {},
   "outputs": [],
   "source": [
    "# Extract only the marker data, copy so we do not edit the view\n",
    "\n",
    "new_adata = adata[\n",
    "    :,\n",
    "    adata.var_names[:-3],\n",
    "].copy()"
   ]
  },
  {
   "cell_type": "code",
   "execution_count": null,
   "metadata": {},
   "outputs": [],
   "source": [
    "# Extractt the omiq file index (categories)\n",
    "omiq_file_index = adata.to_df()[\"OmiqFileIndex\"].astype(\"int\").astype(\"category\")\n",
    "new_adata.obs[\"OmiqFileIndex\"] = omiq_file_index"
   ]
  },
  {
   "cell_type": "code",
   "execution_count": null,
   "metadata": {},
   "outputs": [],
   "source": [
    "cell_type_mapping = {0: \"Healthy\", 1: \"Healthy\", 2: \"Cancer\"}\n",
    "patient_annotation = {0: \"Healthy\", 1: \"Cancer\", 2: \"Cancer\"}\n",
    "cell_type_patient_mapping = {\n",
    "    0: \"Healthy Cells\",\n",
    "    1: \"Queen Bee Cells\",\n",
    "    2: \"Cancer Cells\",\n",
    "}\n",
    "new_adata.obs[\"cell_type\"] = new_adata.obs[\"OmiqFileIndex\"].map(cell_type_mapping).astype(\"category\")\n",
    "new_adata.obs[\"patient\"] = new_adata.obs[\"OmiqFileIndex\"].map(patient_annotation).astype(\"category\")\n",
    "new_adata.obs[\"cell_type_patient\"] = new_adata.obs[\"OmiqFileIndex\"].map(cell_type_patient_mapping).astype(\"category\")"
   ]
  },
  {
   "cell_type": "markdown",
   "metadata": {},
   "source": [
    "## UMAP Embedding\n",
    "\n",
    "3D embedding and 2D embedding"
   ]
  },
  {
   "cell_type": "code",
   "execution_count": null,
   "metadata": {},
   "outputs": [],
   "source": [
    "sc.pp.neighbors(adata=new_adata)\n",
    "new_adata.obsm[\"X_umap_2D\"] = sc.tl.umap(adata=new_adata, n_components=2, copy=True).obsm[\"X_umap\"].copy()\n",
    "new_adata.obsm[\"X_umap_3D\"] = sc.tl.umap(adata=new_adata, n_components=3, copy=True).obsm[\"X_umap\"].copy()"
   ]
  },
  {
   "cell_type": "markdown",
   "metadata": {},
   "source": [
    "## Export 3D embedding to `csvs`"
   ]
  },
  {
   "cell_type": "code",
   "execution_count": null,
   "metadata": {},
   "outputs": [],
   "source": [
    "df = pd.DataFrame(data=new_adata.obsm[\"X_umap_3D\"], columns=[\"x\", \"y\", \"z\"])\n",
    "df[\"cell_type_patient\"] = new_adata.obs[\"OmiqFileIndex\"].values\n",
    "for name, group in df.groupby(by=\"cell_type_patient\", observed=True):\n",
    "    group.to_csv(f\"../data/{name}.csv\", index=False)"
   ]
  },
  {
   "cell_type": "code",
   "execution_count": null,
   "metadata": {},
   "outputs": [],
   "source": [
    "markers = [\"141Pr_pPLCg2\", \"150Sm_pSTAT5\", \"159Tb_pAkt\", \"166Er_pSyk\", \"176Yb_pCreb\"]"
   ]
  },
  {
   "cell_type": "code",
   "execution_count": null,
   "metadata": {},
   "outputs": [],
   "source": [
    "new_adata2 = new_adata.copy()[:, markers]"
   ]
  },
  {
   "cell_type": "code",
   "execution_count": null,
   "metadata": {},
   "outputs": [],
   "source": [
    "renamed_markers = [\"Gamma\", \"STAT5\", \"AKT\", \"SYK\", \"CREB\"]"
   ]
  },
  {
   "cell_type": "code",
   "execution_count": null,
   "metadata": {},
   "outputs": [],
   "source": [
    "new_adata2.var_names = renamed_markers"
   ]
  },
  {
   "cell_type": "code",
   "execution_count": null,
   "metadata": {},
   "outputs": [],
   "source": [
    "new_adata2.write_zarr(\"../data/embedded_data.zarr\")"
   ]
  },
  {
   "cell_type": "code",
   "execution_count": null,
   "metadata": {},
   "outputs": [],
   "source": []
  }
 ],
 "metadata": {
  "kernelspec": {
   "display_name": ".venv",
   "language": "python",
   "name": "python3"
  },
  "language_info": {
   "codemirror_mode": {
    "name": "ipython",
    "version": 3
   },
   "file_extension": ".py",
   "mimetype": "text/x-python",
   "name": "python",
   "nbconvert_exporter": "python",
   "pygments_lexer": "ipython3",
   "version": "3.11.7"
  }
 },
 "nbformat": 4,
 "nbformat_minor": 2
}
