{
 "cells": [
  {
   "cell_type": "markdown",
   "metadata": {},
   "source": [
    "# Science under the Stars Vitessce Vizualization"
   ]
  },
  {
   "cell_type": "markdown",
   "metadata": {},
   "source": [
    "Directory Structure:\n",
    "```sh\n",
    "vitessce_suts/\n",
    "├── data/\n",
    "│   ├── data.fcs\n",
    "│   └── embedded_data.zarr *\n",
    "└── scripts/\n",
    "    ├── process_fcs.ipynb\n",
    "    └── vitessce.ipynb *\n",
    "```\n"
   ]
  },
  {
   "cell_type": "code",
   "execution_count": 10,
   "metadata": {},
   "outputs": [],
   "source": [
    "from pathlib import Path\n",
    "\n",
    "import numpy as np\n",
    "from matplotlib.colors import to_rgb\n",
    "from vitessce import (\n",
    "    AnnDataWrapper,\n",
    "    VitessceConfig,\n",
    ")\n",
    "from vitessce import Component as cm\n",
    "from vitessce import CoordinationType as ct"
   ]
  },
  {
   "cell_type": "markdown",
   "metadata": {},
   "source": [
    "## Create Vitessce Config"
   ]
  },
  {
   "cell_type": "code",
   "execution_count": 11,
   "metadata": {},
   "outputs": [],
   "source": [
    "cancer_cells = \"Cancer Cells\"\n",
    "queen_bee_cells = \"Queen Bee Cells\"\n",
    "healthy_cells = \"Healthy Cells\""
   ]
  },
  {
   "cell_type": "code",
   "execution_count": 12,
   "metadata": {},
   "outputs": [],
   "source": [
    "def color_name_to_int(color_name):\n",
    "    \"\"\"Converts a color name to a list of integers representing the color in RGB\n",
    "\n",
    "    Parameters\n",
    "    ----------\n",
    "    color_name : str\n",
    "        The color to convert\n",
    "\n",
    "    Returns\n",
    "    -------\n",
    "    list[int]\n",
    "        The integer RGB values\n",
    "    \"\"\"\n",
    "    rgb = to_rgb(color_name)\n",
    "    return (np.array(rgb) * 255).astype(int).tolist()"
   ]
  },
  {
   "cell_type": "code",
   "execution_count": 13,
   "metadata": {},
   "outputs": [],
   "source": [
    "vit_adata_path = Path(\"../data/embedded_data.zarr\")"
   ]
  },
  {
   "cell_type": "code",
   "execution_count": 5,
   "metadata": {},
   "outputs": [],
   "source": [
    "vc = VitessceConfig(schema_version=\"1.0.15\", name=\"Science Under the Stars\", description=\"The Dataset for the event\")\n",
    "\n",
    "dataset = vc.add_dataset(name=\"Dataset\").add_object(\n",
    "    AnnDataWrapper(\n",
    "        adata_path=vit_adata_path,\n",
    "        obs_embedding_paths=[\"obsm/X_umap_2D\"],\n",
    "        obs_embedding_names=[\"UMAP\"],\n",
    "        obs_set_paths=[\"obs/cell_type_patient\"],\n",
    "        obs_set_names=[\"Cell Type\"],\n",
    "        obs_feature_matrix_path=\"X\",\n",
    "        coordination_values={\n",
    "            \"obsType\": \"cell\",\n",
    "            \"featureType\": \"gene\",\n",
    "            \"featureValueType\": \"expression\",\n",
    "        },\n",
    "    )\n",
    ")"
   ]
  },
  {
   "cell_type": "code",
   "execution_count": 7,
   "metadata": {},
   "outputs": [],
   "source": [
    "scatterplot_umap = vc.add_view(view_type=cm.SCATTERPLOT, dataset=dataset, mapping=\"UMAP\")\n",
    "cell_sets = vc.add_view(view_type=cm.OBS_SETS, dataset=dataset)\n",
    "markers = vc.add_view(view_type=cm.FEATURE_LIST, dataset=dataset)\n",
    "heatmap = vc.add_view(view_type=cm.HEATMAP, dataset=dataset)\n",
    "cell_set_sizes = vc.add_view(view_type=cm.OBS_SET_SIZES, dataset=dataset)\n",
    "\n",
    "vc.link_views_by_dict(\n",
    "    views=[cell_sets, heatmap, cell_set_sizes],\n",
    "    input_val={\n",
    "        ct.OBS_COLOR_ENCODING: \"cellSetSelection\",\n",
    "        ct.OBS_SET_SELECTION: [\n",
    "            [\"Cell Type\", cancer_cells],\n",
    "            [\"Cell Type\", queen_bee_cells],\n",
    "            [\"Cell Type\", healthy_cells],\n",
    "        ],\n",
    "        ct.OBS_SET_COLOR: [\n",
    "            {\"path\": [\"Cell Type\", healthy_cells], \"color\": color_name_to_int(\"xkcd:grey\")},\n",
    "            {\"path\": [\"Cell Type\", queen_bee_cells], \"color\": color_name_to_int(\"xkcd:green\")},\n",
    "            {\"path\": [\"Cell Type\", cancer_cells], \"color\": color_name_to_int(\"xkcd:red\")},\n",
    "        ],\n",
    "    },\n",
    "    meta=False,\n",
    ")\n",
    "vc.layout((scatterplot_umap | (cell_sets / markers)) / (heatmap | cell_set_sizes));"
   ]
  },
  {
   "cell_type": "markdown",
   "metadata": {},
   "source": [
    "## Open the Web View"
   ]
  },
  {
   "cell_type": "code",
   "execution_count": 9,
   "metadata": {},
   "outputs": [
    {
     "data": {
      "text/plain": [
       "'http://vitessce.io/#?theme=light&url=data:,%7B%22version%22%3A+%221.0.15%22%2C+%22name%22%3A+%22Science+Under+the+Stars%22%2C+%22description%22%3A+%22The+Dataset+for+the+event%22%2C+%22datasets%22%3A+%5B%7B%22uid%22%3A+%22A%22%2C+%22name%22%3A+%22Dataset%22%2C+%22files%22%3A+%5B%7B%22fileType%22%3A+%22anndata.zarr%22%2C+%22url%22%3A+%22http%3A%2F%2Flocalhost%3A8001%2FA%2F0%2F5a2e8deb-b76a-43bb-98cf-c589458a4f46.adata.zarr%22%2C+%22options%22%3A+%7B%22obsEmbedding%22%3A+%5B%7B%22path%22%3A+%22obsm%2FX_umap_2D%22%2C+%22dims%22%3A+%5B0%2C+1%5D%2C+%22embeddingType%22%3A+%22UMAP%22%7D%5D%2C+%22obsSets%22%3A+%5B%7B%22name%22%3A+%22Cell+Type%22%2C+%22path%22%3A+%22obs%2Fcell_type_patient%22%7D%5D%2C+%22obsFeatureMatrix%22%3A+%7B%22path%22%3A+%22X%22%7D%2C+%22featureLabels%22%3A+%7B%22path%22%3A+%22sup_names%22%7D%7D%2C+%22coordinationValues%22%3A+%7B%22obsType%22%3A+%22cell%22%2C+%22featureType%22%3A+%22gene%22%2C+%22featureValueType%22%3A+%22expression%22%7D%7D%5D%7D%5D%2C+%22coordinationSpace%22%3A+%7B%22dataset%22%3A+%7B%22A%22%3A+%22A%22%7D%2C+%22embeddingType%22%3A+%7B%22A%22%3A+%22UMAP%22%7D%2C+%22obsColorEncoding%22%3A+%7B%22A%22%3A+%22cellSetSelection%22%7D%2C+%22obsSetSelection%22%3A+%7B%22A%22%3A+%5B%5B%22Cell+Type%22%2C+%22Cancer+Cells%22%5D%2C+%5B%22Cell+Type%22%2C+%22Queen+Bee+Cells%22%5D%2C+%5B%22Cell+Type%22%2C+%22Healthy+Cells%22%5D%5D%7D%2C+%22obsSetColor%22%3A+%7B%22A%22%3A+%5B%7B%22path%22%3A+%5B%22Cell+Type%22%2C+%22Healthy+Cells%22%5D%2C+%22color%22%3A+%5B146%2C+149%2C+145%5D%7D%2C+%7B%22path%22%3A+%5B%22Cell+Type%22%2C+%22Queen+Bee+Cells%22%5D%2C+%22color%22%3A+%5B21%2C+176%2C+26%5D%7D%2C+%7B%22path%22%3A+%5B%22Cell+Type%22%2C+%22Cancer+Cells%22%5D%2C+%22color%22%3A+%5B229%2C+0%2C+0%5D%7D%5D%7D%7D%2C+%22layout%22%3A+%5B%7B%22component%22%3A+%22scatterplot%22%2C+%22coordinationScopes%22%3A+%7B%22dataset%22%3A+%22A%22%2C+%22embeddingType%22%3A+%22A%22%7D%2C+%22x%22%3A+0.0%2C+%22y%22%3A+0.0%2C+%22w%22%3A+6.0%2C+%22h%22%3A+6.0%7D%2C+%7B%22component%22%3A+%22obsSets%22%2C+%22coordinationScopes%22%3A+%7B%22obsColorEncoding%22%3A+%22A%22%2C+%22obsSetSelection%22%3A+%22A%22%2C+%22obsSetColor%22%3A+%22A%22%7D%2C+%22x%22%3A+6.0%2C+%22y%22%3A+0.0%2C+%22w%22%3A+6.0%2C+%22h%22%3A+3.0%2C+%22coordinationScopesBy%22%3A+%7B%7D%7D%2C+%7B%22component%22%3A+%22featureList%22%2C+%22coordinationScopes%22%3A+%7B%22dataset%22%3A+%22A%22%7D%2C+%22x%22%3A+6.0%2C+%22y%22%3A+3.0%2C+%22w%22%3A+6.0%2C+%22h%22%3A+3.0%7D%2C+%7B%22component%22%3A+%22heatmap%22%2C+%22coordinationScopes%22%3A+%7B%22obsColorEncoding%22%3A+%22A%22%2C+%22obsSetSelection%22%3A+%22A%22%2C+%22obsSetColor%22%3A+%22A%22%7D%2C+%22x%22%3A+0.0%2C+%22y%22%3A+6.0%2C+%22w%22%3A+6.0%2C+%22h%22%3A+6.0%2C+%22coordinationScopesBy%22%3A+%7B%7D%7D%2C+%7B%22component%22%3A+%22obsSetSizes%22%2C+%22coordinationScopes%22%3A+%7B%22obsColorEncoding%22%3A+%22A%22%2C+%22obsSetSelection%22%3A+%22A%22%2C+%22obsSetColor%22%3A+%22A%22%7D%2C+%22x%22%3A+6.0%2C+%22y%22%3A+6.0%2C+%22w%22%3A+6.0%2C+%22h%22%3A+6.0%2C+%22coordinationScopesBy%22%3A+%7B%7D%7D%5D%2C+%22initStrategy%22%3A+%22auto%22%7D'"
      ]
     },
     "execution_count": 9,
     "metadata": {},
     "output_type": "execute_result"
    }
   ],
   "source": [
    "vc.web_app()"
   ]
  },
  {
   "cell_type": "code",
   "execution_count": null,
   "metadata": {},
   "outputs": [],
   "source": []
  }
 ],
 "metadata": {
  "kernelspec": {
   "display_name": ".venv",
   "language": "python",
   "name": "python3"
  },
  "language_info": {
   "codemirror_mode": {
    "name": "ipython",
    "version": 3
   },
   "file_extension": ".py",
   "mimetype": "text/x-python",
   "name": "python",
   "nbconvert_exporter": "python",
   "pygments_lexer": "ipython3",
   "version": "3.11.9"
  }
 },
 "nbformat": 4,
 "nbformat_minor": 2
}
