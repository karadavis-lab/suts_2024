{
 "cells": [
  {
   "cell_type": "markdown",
   "metadata": {},
   "source": [
    "# Science under the Stars Vitessce Vizualization"
   ]
  },
  {
   "cell_type": "markdown",
   "metadata": {},
   "source": [
    "Directory Structure:\n",
    "```sh\n",
    "vitessce_suts/\n",
    "├── data/\n",
    "│   ├── data.fcs\n",
    "│   └── embedded_data.zarr *\n",
    "└── scripts/\n",
    "    ├── process_fcs.ipynb\n",
    "    └── vitessce.ipynb *\n",
    "```\n"
   ]
  },
  {
   "cell_type": "code",
   "execution_count": null,
   "metadata": {},
   "outputs": [],
   "source": [
    "from pathlib import Path\n",
    "\n",
    "from vitessce import (\n",
    "    AnnDataWrapper,\n",
    "    VitessceConfig,\n",
    ")\n",
    "from vitessce import (\n",
    "    Component as cm,\n",
    ")"
   ]
  },
  {
   "cell_type": "markdown",
   "metadata": {},
   "source": [
    "## Create Vitessce Config"
   ]
  },
  {
   "cell_type": "code",
   "execution_count": null,
   "metadata": {},
   "outputs": [],
   "source": [
    "vit_adata_path = Path(\"../data/embedded_data.zarr\")"
   ]
  },
  {
   "cell_type": "code",
   "execution_count": null,
   "metadata": {},
   "outputs": [],
   "source": [
    "vc = VitessceConfig(schema_version=\"1.0.15\", name=\"Science Under the Stars\", description=\"The Dataset for the event\")\n",
    "\n",
    "dataset = vc.add_dataset(name=\"Cancer_Patient\").add_object(\n",
    "    AnnDataWrapper(\n",
    "        adata_path=vit_adata_path,\n",
    "        obs_embedding_paths=[\"obsm/X_umap_2D\"],\n",
    "        obs_embedding_names=[\"UMAP\"],\n",
    "        obs_set_paths=[\"obs/cell_type_patient\"],\n",
    "        obs_set_names=[\"Cell Type\"],\n",
    "        obs_feature_matrix_path=\"X\",\n",
    "        feature_labels_path=\"marker\",\n",
    "        coordination_values={\n",
    "            \"obsType\": \"cell\",\n",
    "            \"featureType\": \"gene\",\n",
    "            \"featureValueType\": \"expression\",\n",
    "        },\n",
    "    )\n",
    ")"
   ]
  },
  {
   "cell_type": "code",
   "execution_count": null,
   "metadata": {},
   "outputs": [],
   "source": [
    "scatterplot_umap = vc.add_view(view_type=cm.SCATTERPLOT, dataset=dataset, mapping=\"UMAP\")\n",
    "cell_sets = vc.add_view(view_type=cm.OBS_SETS, dataset=dataset)\n",
    "markers = vc.add_view(view_type=cm.FEATURE_LIST, dataset=dataset)\n",
    "heatmap = vc.add_view(view_type=cm.HEATMAP, dataset=dataset)\n",
    "cell_set_sizes = vc.add_view(view_type=cm.OBS_SET_SIZES, dataset=dataset)\n",
    "\n",
    "vc.layout((scatterplot_umap | (cell_sets / markers)) / (heatmap | cell_set_sizes));"
   ]
  },
  {
   "cell_type": "markdown",
   "metadata": {},
   "source": [
    "## Open the Web View"
   ]
  },
  {
   "cell_type": "code",
   "execution_count": null,
   "metadata": {},
   "outputs": [],
   "source": [
    "vc.web_app()"
   ]
  }
 ],
 "metadata": {
  "kernelspec": {
   "display_name": ".venv",
   "language": "python",
   "name": "python3"
  },
  "language_info": {
   "codemirror_mode": {
    "name": "ipython",
    "version": 3
   },
   "file_extension": ".py",
   "mimetype": "text/x-python",
   "name": "python",
   "nbconvert_exporter": "python",
   "pygments_lexer": "ipython3",
   "version": "3.11.9"
  }
 },
 "nbformat": 4,
 "nbformat_minor": 2
}
